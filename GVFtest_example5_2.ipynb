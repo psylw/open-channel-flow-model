{
 "cells": [
  {
   "cell_type": "markdown",
   "id": "af1f3705",
   "metadata": {},
   "source": [
    "Explain+cite"
   ]
  },
  {
   "cell_type": "markdown",
   "id": "6e01a7d1",
   "metadata": {},
   "source": [
    "Import required libraries"
   ]
  },
  {
   "cell_type": "code",
   "execution_count": 2,
   "id": "2c04888b",
   "metadata": {},
   "outputs": [],
   "source": [
    "import numpy as np\n",
    "import matplotlib.pyplot as plt\n",
    "import pandas as pd"
   ]
  },
  {
   "cell_type": "markdown",
   "id": "f323d8d0",
   "metadata": {},
   "source": [
    "Import example 5.2 solution and longitudinal data"
   ]
  },
  {
   "cell_type": "code",
   "execution_count": 3,
   "id": "12232e9a",
   "metadata": {},
   "outputs": [],
   "source": [
    "example = pd.read_csv('Book1.csv')\n",
    "dx = example.dx\n",
    "x = example.x"
   ]
  },
  {
   "cell_type": "markdown",
   "id": "47bb33da",
   "metadata": {},
   "source": [
    "Define function to solve for friction slope"
   ]
  },
  {
   "cell_type": "code",
   "execution_count": 4,
   "id": "06c085cf",
   "metadata": {},
   "outputs": [],
   "source": [
    "# create function for friction slope using Manning's equation\n",
    "def Sfric(k,u,n,r):\n",
    "    return np.multiply.reduce((u/((k/n)*(r**(2/3))))**2)"
   ]
  },
  {
   "cell_type": "markdown",
   "id": "17a59af4",
   "metadata": {},
   "source": [
    "Enter input data and calculate initial geometric flow elements"
   ]
  },
  {
   "cell_type": "code",
   "execution_count": 5,
   "id": "cdbab440",
   "metadata": {},
   "outputs": [],
   "source": [
    "EH = 0.0005\n",
    "k=1\n",
    "g=9.81\n",
    "s0 = 0.001\n",
    "n=0.025\n",
    "bedelev = [-x[i]*s0 for i in range(len(x))]\n",
    "hc = 1.0298\n",
    "b = 8\n",
    "m = 2\n",
    "A1 = hc*(b+(m*hc))\n",
    "h1 = hc\n",
    "Q1 = 30\n",
    "u1 = Q1/A1\n",
    "H1 = h1+((u1**2)/(2*g))\n",
    "P1 = b+(2*h1*(1+m**2)**(1/2))\n",
    "R1 = A1/P1"
   ]
  },
  {
   "cell_type": "markdown",
   "id": "94b61f95",
   "metadata": {},
   "source": [
    "Initialize arrays"
   ]
  },
  {
   "cell_type": "code",
   "execution_count": 6,
   "id": "ed45eb28",
   "metadata": {},
   "outputs": [],
   "source": [
    "h = np.ones(shape=(len(x),1), dtype=float)\n",
    "A = np.ones(shape=(len(x), 1), dtype=float)\n",
    "P = np.ones(shape=(len(x), 1), dtype=float)\n",
    "R = np.ones(shape=(len(x), 1), dtype=float)\n",
    "u = np.ones(shape=(len(x), 1), dtype=float)\n",
    "H = np.ones(shape=(len(x), 1), dtype=float)\n",
    "Hstar = np.ones(shape=(len(x), 1), dtype=float)\n",
    "Sbar = np.ones(shape=(len(x), 1), dtype=float)\n",
    "Hp = np.ones(shape=(len(x), 1), dtype=float)\n",
    "H1star = np.ones(shape=(len(x), 1), dtype=float)\n",
    "S1 = np.ones(shape=(len(x), 1), dtype=float)\n",
    "F1 = np.ones(shape=(len(x), 1), dtype=float)\n",
    "hstar = np.ones(shape=(len(x), 1), dtype=float)\n",
    "delh = np.ones(shape=(len(x), 1), dtype=float)\n",
    "H2 = np.ones(shape=(len(x), 1), dtype=float)"
   ]
  },
  {
   "cell_type": "markdown",
   "id": "32fb3142",
   "metadata": {},
   "source": [
    "Use Henderson method to solve for h"
   ]
  },
  {
   "cell_type": "code",
   "execution_count": 7,
   "id": "3012856b",
   "metadata": {
    "scrolled": true
   },
   "outputs": [],
   "source": [
    "for i in range(len(x)):\n",
    "    if i == 0:\n",
    "        h[i] = h1\n",
    "        A[i] = A1\n",
    "        u[i] = u1\n",
    "        H[i] = H1\n",
    "        P[i] = P1\n",
    "        R[i] = R1\n",
    "    else:\n",
    "        # step 1\n",
    "        h[i] = h[i-1]\n",
    "        absH=1\n",
    "        H2 = H[i-1]\n",
    "        S2 = Sfric(k,u[i-1],n,R[i-1])\n",
    "\n",
    "        while absH > EH:\n",
    "            # step 2\n",
    "            A[i] = h[i]*(b+(m*h[i]))\n",
    "\n",
    "            # calculate velocity\n",
    "            u[i] = Q1/A[i]\n",
    "\n",
    "            P[i] = (b+(2*h[i]*(1+m**2)**(1/2))) # for trapezoidal geometry\n",
    "\n",
    "            R[i] = (A[i]/P[i])\n",
    "\n",
    "            # step 3\n",
    "            H[i] = bedelev[i]+h[i]+((u[i]**2)/(2*g)) #total mechanical energy head\n",
    "            S1[i] = Sfric(k,u[i],n,R[i])\n",
    "\n",
    "            # step 4 compute average friction slope\n",
    "            Sbar[i] = S1[i]+S2\n",
    "            Hp[i] = H2+(0.5*Sbar[i]*dx[i]) #+Hec[i]+Hb[i] # upstream mechanical energy head\n",
    "\n",
    "            # step 7\n",
    "            absH = abs(H[i]-Hp[i])\n",
    "            F1[i] = u[i]/((g*h[i])**.5)\n",
    "            delh[i] = (H[i]-Hp[i])/(1-(F1[i]**2)+((3*S1[i]*dx[i])/(2*R[i])))\n",
    "            h[i] = h[i]-delh[i]"
   ]
  },
  {
   "cell_type": "markdown",
   "id": "7d6ef54c",
   "metadata": {},
   "source": [
    "Plot calculated vs book solution"
   ]
  },
  {
   "cell_type": "code",
   "execution_count": 14,
   "id": "a9aa8cde",
   "metadata": {
    "scrolled": true
   },
   "outputs": [
    {
     "data": {
      "text/plain": [
       "Text(0, 0.5, 'Depth (m)')"
      ]
     },
     "execution_count": 14,
     "metadata": {},
     "output_type": "execute_result"
    },
    {
     "data": {
      "image/png": "[encoded data removed]",
      "text/plain": [
       "<Figure size 1080x360 with 1 Axes>"
      ]
     },
     "metadata": {
      "needs_background": "light"
     },
     "output_type": "display_data"
    }
   ],
   "source": [
    "fig = plt.figure(1, figsize=(15,5))\n",
    "plt.plot(example.x,example.y)\n",
    "plt.plot(x,h)\n",
    "plt.legend(['model','example'])\n",
    "plt.xlabel('Distance Upstream, (m)')\n",
    "plt.ylabel('Depth (m)')"
   ]
  },
  {
   "cell_type": "markdown",
   "id": "82bd0786",
   "metadata": {},
   "source": [
    "Calculate residuals and plot"
   ]
  },
  {
   "cell_type": "code",
   "execution_count": 15,
   "id": "1aa1fa8b",
   "metadata": {},
   "outputs": [
    {
     "data": {
      "text/plain": [
       "Text(0, 0.5, 'Residual Depth (m)')"
      ]
     },
     "execution_count": 15,
     "metadata": {},
     "output_type": "execute_result"
    },
    {
     "data": {
      "image/png": "[encoded data removed]",
      "text/plain": [
       "<Figure size 1080x360 with 1 Axes>"
      ]
     },
     "metadata": {
      "needs_background": "light"
     },
     "output_type": "display_data"
    }
   ],
   "source": [
    "diff = [h[i]-example.y[i] for i in range(len(h))]\n",
    "fig = plt.figure(1, figsize=(15,5))\n",
    "plt.plot(x,diff)\n",
    "\n",
    "plt.xlabel('Distance Upstream, (m)')\n",
    "plt.ylabel('Residual Depth (m)')"
   ]
  }
 ],
 "metadata": {
  "kernelspec": {
   "display_name": "Python 3 (ipykernel)",
   "language": "python",
   "name": "python3"
  },
  "language_info": {
   "codemirror_mode": {
    "name": "ipython",
    "version": 3
   },
   "file_extension": ".py",
   "mimetype": "text/x-python",
   "name": "python",
   "nbconvert_exporter": "python",
   "pygments_lexer": "ipython3",
   "version": "3.8.13"
  }
 },
 "nbformat": 4,
 "nbformat_minor": 5
}
