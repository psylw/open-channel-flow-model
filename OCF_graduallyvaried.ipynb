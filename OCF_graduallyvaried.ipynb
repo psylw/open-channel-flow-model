{
 "cells": [
  {
   "cell_type": "markdown",
   "id": "a6be511f",
   "metadata": {},
   "source": [
    "## Open Channel, Cross-Section-Averaged,  Gradually Varied Steady Flow Model"
   ]
  },
  {
   "cell_type": "markdown",
   "id": "c6e163a7",
   "metadata": {},
   "source": [
    "### Assumptions\n",
    "- Dimensions within cross section are very small compared to longitudinal dimensions parallel to banks\n",
    "- Directions that defines average alignment of thalweg axis is usually about the same as the direction of channel banks, which also defines the principle direction of flow.\n",
    "- Rigid channel boundary\n",
    "- The bed slow is small enough that cross sectional flow is normal to the principle direction of flow, must be 10deg or less\n",
    "- Constant fluid density\n",
    "- No flux through water surface\n",
    "- Error for irregular channel shape/scale factors negligible\n",
    "- Rapidly varied flow is spatially short, and is not captured in model\n",
    "- Hydrostatic pressure\n",
    "- Negligible wind shear\n",
    "- Errors in momentum transfer negligible \n",
    "- Negligible headloss at structures\n",
    "- Negligible flow separation"
   ]
  },
  {
   "cell_type": "markdown",
   "id": "66e183c5",
   "metadata": {},
   "source": [
    "### Capabilities\n",
    "For a reach with spatially varying bed slope, cross sectional geometry, hydraulic resistance, lateral inflow/outflow, kinetic energy correction factor, bend loss coefficient, and contraction/expansion coefficient:\n",
    "\n",
    "- Calculate steady flow rate with lateral flow losses and offtakes\n",
    "- Calculate offtake flow rates, given structure parameters\n",
    "- Calculate cross-sectional-averaged velocity\n",
    "- Calculate flow depth and plot\n",
    "- Calculate water surface elevation\n",
    "- Calculate Froude number\n",
    "- Calculate total mechanical energy head\n",
    "\n",
    "The boundary conditions are defined at the upstream by a known water level upstream of a radial sluice gate and at the downstream by a sharp-crested weir\n",
    "\n",
    "Additionally, this model has one in stream regulating structure (vertical sluice gate) and five offtake structures (three radial sluice gate and two vertical sluice gates)\n",
    "\n",
    "See \"geometric_elements_irregular.ipynb\" for calculation of irregular cross section shape and scale factors"
   ]
  },
  {
   "cell_type": "markdown",
   "id": "8a4cac3f",
   "metadata": {},
   "source": [
    "### Instructions for use\n",
    "Read all instructions above cells. If no instructions, simply run cell."
   ]
  },
  {
   "cell_type": "markdown",
   "id": "4fa9cb91",
   "metadata": {},
   "source": [
    "Resources used for model development are cited inline"
   ]
  },
  {
   "cell_type": "markdown",
   "id": "ca34d4b7",
   "metadata": {},
   "source": [
    "### Import required libraries"
   ]
  },
  {
   "cell_type": "code",
   "execution_count": 1,
   "id": "d6418802",
   "metadata": {},
   "outputs": [],
   "source": [
    "import numpy as np\n",
    "import matplotlib.pyplot as plt\n",
    "import math\n",
    "from scipy.optimize import fsolve\n",
    "import pandas as pd"
   ]
  },
  {
   "cell_type": "markdown",
   "id": "2f6bd6ba",
   "metadata": {},
   "source": [
    "### Enter unit system\n",
    "Choose english or metric, comment/uncomment top two lines appropriately"
   ]
  },
  {
   "cell_type": "code",
   "execution_count": 2,
   "id": "c6878ab9",
   "metadata": {},
   "outputs": [],
   "source": [
    "# units = 'eng'# uncomment if units are English\n",
    "units = 'met'# uncomment if units are metric\n",
    "g = [32.2 if units == 'eng' else 9.81]\n",
    "g = g[0]\n",
    "k = [1.49 if units == 'eng' else 1.0]\n",
    "k = k[0]"
   ]
  },
  {
   "cell_type": "markdown",
   "id": "84d56e44",
   "metadata": {},
   "source": [
    "### Enter channel longitudinal characteristics\n",
    "enter values for top 3 lines"
   ]
  },
  {
   "cell_type": "code",
   "execution_count": 3,
   "id": "654095e5",
   "metadata": {},
   "outputs": [],
   "source": [
    "dx = 10 #distance between cross sections\n",
    "l = 5000 # total length of reach\n",
    "elev = 0 # elevation datum at downstream\n",
    "\n",
    "x = -np.arange(0,l,dx)"
   ]
  },
  {
   "cell_type": "markdown",
   "id": "74e8061a",
   "metadata": {},
   "source": [
    "### Enter bed slope information\n",
    "Enter unique values of bed slope, and enter where change in grade occurs (distance upstream, assumed negative) \n",
    "<br>If more unique values exist, loop must be adjusted"
   ]
  },
  {
   "cell_type": "code",
   "execution_count": 4,
   "id": "623c1326",
   "metadata": {},
   "outputs": [],
   "source": [
    "# enter bed slope\n",
    "s0 = 0.0005\n",
    "s1 = 0.001\n",
    "s2 = 0.0008\n",
    "\n",
    "# enter locations of channel geometry change\n",
    "# station aka x is 0 at d/s end\n",
    "\n",
    "xs0 = -1000\n",
    "xs1 = -3500\n",
    "\n",
    "bedelev = []\n",
    "\n",
    "for i in range(len(x)):\n",
    "    if i == 0:\n",
    "        bedelev.append(elev)\n",
    "    elif x[i] >= xs0:\n",
    "        bedelev.append(bedelev[i-1]+(dx*s0))\n",
    "    elif x[i] >= xs1:\n",
    "        bedelev.append(bedelev[i-1]+(dx*s1))\n",
    "    else:\n",
    "        bedelev.append(bedelev[i-1]+(dx*s2))\n",
    "        \n",
    "So = []\n",
    "for i in range(len(x)):\n",
    "    if x[i] >= xs0:\n",
    "        So.append(s0)\n",
    "    elif x[i] >= xs1:\n",
    "        So.append(s1)\n",
    "    else:\n",
    "        So.append(s2)"
   ]
  },
  {
   "cell_type": "markdown",
   "id": "10e13fea",
   "metadata": {},
   "source": [
    "### Enter hydraulic resistance\n",
    "Enter unique values of hydraulic resistance (manning's n) and enter where change occurs\n",
    "<br>If more unique values exist, loop must be adjusted"
   ]
  },
  {
   "cell_type": "code",
   "execution_count": 5,
   "id": "e19deaf9",
   "metadata": {},
   "outputs": [],
   "source": [
    "# enter hydraulic resistance\n",
    "# example with change in resistance\n",
    "n0 = 0.03\n",
    "n1 = 0.01\n",
    "\n",
    "# enter locations of n change\n",
    "xn1 = -1000\n",
    "xn2 = -4000\n",
    "\n",
    "n = []\n",
    "\n",
    "for i in range(len(x)):\n",
    "    if x[i] >=xn1:\n",
    "        n.append(n0)\n",
    "    elif x[i] >=xn2:\n",
    "        n.append(n1)\n",
    "    else:\n",
    "        n.append(n0)"
   ]
  },
  {
   "cell_type": "markdown",
   "id": "668eec4c",
   "metadata": {},
   "source": [
    "### Enter lateral inflow/outflow\n",
    "Enter unique values of lateral inflow/outflow and enter where change occurs <br>\n",
    "Positive values are outflow\n",
    "<br>If more unique values exist, loop must be adjusted"
   ]
  },
  {
   "cell_type": "code",
   "execution_count": 6,
   "id": "8e952d44",
   "metadata": {},
   "outputs": [],
   "source": [
    "# enter lateral inflow/outflow\n",
    "# start with constant q\n",
    "q0 = 0.0005\n",
    "q1 = 0\n",
    "q2 = 0.0001\n",
    "\n",
    "# enter locations of q change, positive going out of system\n",
    "xq1 = -100\n",
    "xq2 = -450\n",
    "\n",
    "q = []\n",
    "\n",
    "for i in range(len(x)):\n",
    "    if x[i] >=xq1:\n",
    "        q.append(q0)\n",
    "    elif x[i] >=xq2:\n",
    "        q.append(q1)\n",
    "    else:\n",
    "        q.append(q2)"
   ]
  },
  {
   "cell_type": "markdown",
   "id": "d98cf504",
   "metadata": {},
   "source": [
    "### Enter kinetic energy correction factor\n",
    "Enter unique values of kinetic energy correction factor and enter where change occurs\n",
    "<br>If more unique values exist, loop must be adjusted"
   ]
  },
  {
   "cell_type": "code",
   "execution_count": 7,
   "id": "53b988ca",
   "metadata": {},
   "outputs": [],
   "source": [
    "# enter kinetic energy correction factor\n",
    "# start with alpha = 1\n",
    "alpha0 = 1\n",
    "alpha1 = 0.8\n",
    "\n",
    "# enter location of alpha change\n",
    "xalpha1 = -350\n",
    "xalpha2 = -450\n",
    "\n",
    "alpha = []\n",
    "\n",
    "for i in range(len(x)):\n",
    "    if x[i] >=xalpha1:\n",
    "        alpha.append(alpha0)\n",
    "    elif x[i] >=xalpha2:\n",
    "        alpha.append(alpha1)\n",
    "    else:\n",
    "        alpha.append(alpha0)"
   ]
  },
  {
   "cell_type": "markdown",
   "id": "d2161807",
   "metadata": {},
   "source": [
    "### Enter contraction loss coefficients\n",
    "Enter unique values where contraction loss occurs and enter where change occurs\n",
    "<br>If more unique values exist, loop must be adjusted"
   ]
  },
  {
   "cell_type": "code",
   "execution_count": 8,
   "id": "23649449",
   "metadata": {},
   "outputs": [],
   "source": [
    "# for constant contraction loss\n",
    "# Hec = 0 # if no contraction\n",
    "\n",
    "# enter contraction loss coefficients\n",
    "cc1 = 0.5\n",
    "cc2 = 0.4\n",
    "\n",
    "# enter expansion loss coefficients\n",
    "ce1 = 0.4\n",
    "ce2 = 0.8\n",
    "\n",
    "# enter location of contraction\n",
    "xc1 = -np.arange(50,75,dx)\n",
    "xc2 = -np.arange(300,355,dx)\n",
    "\n",
    "# enter location of expansions\n",
    "xe1 = -np.arange(75,80,dx)\n",
    "xe2 = -np.arange(355,400,dx)"
   ]
  },
  {
   "cell_type": "markdown",
   "id": "93f58962",
   "metadata": {},
   "source": [
    "### Enter bend loss coefficients\n",
    "Enter unique values where bend loss occurs and enter where change occurs\n",
    "<br>If more unique values exist, loop must be adjusted"
   ]
  },
  {
   "cell_type": "code",
   "execution_count": 9,
   "id": "47324b01",
   "metadata": {},
   "outputs": [],
   "source": [
    "# enter bend loss coefficients\n",
    "cb1 = 0.055\n",
    "cb2 = 0.058\n",
    "\n",
    "# enter location of channel bends\n",
    "xb1 = -np.arange(550,600,dx)\n",
    "xb2 = -np.arange(2000,2050,dx)"
   ]
  },
  {
   "cell_type": "markdown",
   "id": "c2c7eb27",
   "metadata": {},
   "source": [
    "### Enter cross sectional geometry information\n",
    "possible geometries include triangular, rectangular, trapezoidal, and irregular <br>\n",
    "uncomment geometry types, enter required parameters, enter locations where cross sectional geometry changes <br>\n",
    "See \"geometric_elements_irregular.ipynb\" for calculation of irregular cross section shape and scale factors"
   ]
  },
  {
   "cell_type": "code",
   "execution_count": 10,
   "id": "dd0bf523",
   "metadata": {},
   "outputs": [],
   "source": [
    "# enter cross sectional geometry\n",
    "# uncomment if rectangular cross section\n",
    "br = 7\n",
    "\n",
    "# uncomment if triangular cross section\n",
    "#mt = \n",
    "\n",
    "# uncomment if trapezoidal cross section\n",
    "bt = 2\n",
    "mtr = 2\n",
    "\n",
    "# for irregular cross section:\n",
    "# enter power function parameters, or use calculator\n",
    "a1 = 4.5\n",
    "a2 = 1.5\n",
    "r1 = 0.65\n",
    "r2 = 1.1"
   ]
  },
  {
   "cell_type": "code",
   "execution_count": 11,
   "id": "a3810a41",
   "metadata": {},
   "outputs": [],
   "source": [
    "# enter locations of channel geometry change\n",
    "xgeo1 = -500\n",
    "xgeo2 = -1000\n",
    "xgeo3 = -4500\n",
    "\n",
    "type1 = 'rectangular'\n",
    "type2 = 'irregular'\n",
    "type3 = 'trapezoidal'\n",
    "\n",
    "geo = []\n",
    "\n",
    "for i in range(len(x)):\n",
    "    if x[i] >=xgeo1:\n",
    "        geo.append(type1)\n",
    "    elif x[i] >=xgeo2:\n",
    "        geo.append(type2)\n",
    "    else:\n",
    "        geo.append(type3)"
   ]
  },
  {
   "cell_type": "markdown",
   "id": "fee673e3",
   "metadata": {},
   "source": [
    "### Enter parameters for mid reach vertical sluice gate"
   ]
  },
  {
   "cell_type": "code",
   "execution_count": 12,
   "id": "f3c79412",
   "metadata": {},
   "outputs": [],
   "source": [
    "am = 0.5 # gate height\n",
    "bm = 5 # width of channel upstream of gate"
   ]
  },
  {
   "cell_type": "markdown",
   "id": "5be41e31",
   "metadata": {},
   "source": [
    "### Enter parameters for offtake structures\n",
    "Enter either target offtake or set opening"
   ]
  },
  {
   "cell_type": "markdown",
   "id": "f4bf77f9",
   "metadata": {},
   "source": [
    "Parameters for all radial sluice offtakes"
   ]
  },
  {
   "cell_type": "code",
   "execution_count": 13,
   "id": "5e7a1fde",
   "metadata": {},
   "outputs": [],
   "source": [
    "C1 = 1.02 # gate sill coefficient\n",
    "b = 4 # width of channel upstream of gate\n",
    "r = 0.8 # radius of gate\n",
    "at = 0.5 # height to axle"
   ]
  },
  {
   "cell_type": "markdown",
   "id": "051e0710",
   "metadata": {},
   "source": [
    "Radial Sluice Offtakes, target offtake"
   ]
  },
  {
   "cell_type": "code",
   "execution_count": 14,
   "id": "0fefca94",
   "metadata": {},
   "outputs": [],
   "source": [
    "Qoff3 = 1.1 # radial offtake 3\n",
    "Qoff4 = 1.5 # radial offtake 4\n",
    "#Qoff5 = 1.2 # radial offtake 5"
   ]
  },
  {
   "cell_type": "markdown",
   "id": "7f1961ea",
   "metadata": {},
   "source": [
    "Radial Sluice Offtakes, set opening"
   ]
  },
  {
   "cell_type": "code",
   "execution_count": 15,
   "id": "c48508e5",
   "metadata": {},
   "outputs": [],
   "source": [
    "#ar3 = 0.1 # radial offtake 3\n",
    "#ar4 = 0.4 # radial offtake 4\n",
    "ar5 = 0.6 # radial offtake 5"
   ]
  },
  {
   "cell_type": "markdown",
   "id": "817781c5",
   "metadata": {},
   "source": [
    "Parameters for all vertical sluice gates"
   ]
  },
  {
   "cell_type": "code",
   "execution_count": 16,
   "id": "e2cf860f",
   "metadata": {},
   "outputs": [],
   "source": [
    "bv = 4 # width of channel upstream of gate"
   ]
  },
  {
   "cell_type": "markdown",
   "id": "70d11577",
   "metadata": {},
   "source": [
    "Vertical Sluice Offtakes, target offtake"
   ]
  },
  {
   "cell_type": "code",
   "execution_count": 17,
   "id": "fcfb5dbd",
   "metadata": {},
   "outputs": [],
   "source": [
    "# vert offtake 1\n",
    "Qoff1 = 0.5\n",
    "# vert offtake 2\n",
    "#Qoff2 = 2"
   ]
  },
  {
   "cell_type": "markdown",
   "id": "27a26877",
   "metadata": {},
   "source": [
    "Vertical Sluice Offtakes, set opening"
   ]
  },
  {
   "cell_type": "code",
   "execution_count": 18,
   "id": "9fde80ee",
   "metadata": {},
   "outputs": [],
   "source": [
    "# vert offtake 1\n",
    "#av1 = 0.2\n",
    "# vert offtake 2\n",
    "av2 = 0.3"
   ]
  },
  {
   "cell_type": "markdown",
   "id": "be09c4c0",
   "metadata": {},
   "source": [
    "### Enter structure locations\n",
    "Enter locations for all structures"
   ]
  },
  {
   "cell_type": "code",
   "execution_count": 19,
   "id": "3e3beca3",
   "metadata": {
    "scrolled": true
   },
   "outputs": [],
   "source": [
    "# if cross section falls on structure, delete it\n",
    "#df.drop([xin])\n",
    "\n",
    "# in-stream regulating structure located mid length (vertical sluice gate)\n",
    "xmid = -l/2-5\n",
    "\n",
    "# define locations of vertical sluice gates downstream of regulating structure\n",
    "xgate1 = -1005\n",
    "xgate2 = -2005\n",
    "\n",
    "# define locations of radial sluice gates upstream of regulating structure\n",
    "xgate3 = -3005\n",
    "xgate4 = -3505\n",
    "xgate5 = -4505\n",
    "\n",
    "#https://stackoverflow.com/questions/2566412/find-nearest-value-in-numpy-array\n",
    "# define function to find closest downstream value of x to structure\n",
    "def find_nearest(x,value):\n",
    "    idx = (np.abs(x-value)).argmin()\n",
    "    return x[idx+1]\n",
    "    \n",
    "s = [xmid,xgate1,xgate2,xgate3,xgate4,xgate5]\n",
    "\n",
    "stx = []\n",
    "for i in range(len(s)):\n",
    "    stx.append(find_nearest(x,s[i]))\n",
    "stx = np.array(stx)\n",
    "\n",
    "sid = ['mid','off1','off2','off3','off4','off5']\n",
    "\n",
    "structure = []\n",
    "\n",
    "\n",
    "for i in range(len(x)):\n",
    "    if (x[i] == stx).any() and x[i]==stx[0]:\n",
    "        structure.append(sid[0])\n",
    "    elif (x[i] == stx).any() and x[i]==stx[1]:\n",
    "        structure.append(sid[1])\n",
    "    elif (x[i] == stx).any() and x[i]==stx[2]:\n",
    "        structure.append(sid[2])\n",
    "    elif (x[i] == stx).any() and x[i]==stx[3]:\n",
    "        structure.append(sid[3])\n",
    "    elif (x[i] == stx).any() and x[i]==stx[4]:\n",
    "        structure.append(sid[4])\n",
    "    elif (x[i] == stx).any() and x[i]==stx[5]:\n",
    "        structure.append(sid[5])\n",
    "    else:\n",
    "        structure.append('no structure')"
   ]
  },
  {
   "cell_type": "markdown",
   "id": "c4b9a5b3",
   "metadata": {},
   "source": [
    "### Enter upstream boundary condition parameters"
   ]
  },
  {
   "cell_type": "code",
   "execution_count": 20,
   "id": "4fa9683c",
   "metadata": {},
   "outputs": [],
   "source": [
    "# enter upstream water level delivering flow to the canal through radial sluice gate\n",
    "hend = 15\n",
    "\n",
    "C1 = 1.02\n",
    "aend = 0.2\n",
    "be = 6\n",
    "at = 0.5\n",
    "r = 0.8"
   ]
  },
  {
   "cell_type": "markdown",
   "id": "835e8548",
   "metadata": {},
   "source": [
    "### Calculate free flow through radial gate"
   ]
  },
  {
   "cell_type": "code",
   "execution_count": 21,
   "id": "da200ef7",
   "metadata": {},
   "outputs": [],
   "source": [
    "theta = math.acos((at-aend)/r) # tangent to crest\n",
    "delta = 1.001-(0.2349*theta)-(0.1843*theta**2)+(0.113*theta**3)# contraction coefficient\n",
    "\n",
    "def freeradial(p):\n",
    "    Qmax,Cd=p\n",
    "    return (-Qmax+(C1*Cd*aend*be*(2*g*hend)**.5),-Cd+(delta/(1+((delta*aend)/hend)**0.5)))\n",
    "Qmax,Cd =  fsolve(freeradial, (1, 1))"
   ]
  },
  {
   "cell_type": "markdown",
   "id": "8fdc3277",
   "metadata": {},
   "source": [
    "### Enter downstream boundary condition paramters\n",
    "Flow at downstream boundary condition initially assumed to be freeflow from upstream radial sluice gate "
   ]
  },
  {
   "cell_type": "code",
   "execution_count": 22,
   "id": "33491da2",
   "metadata": {},
   "outputs": [],
   "source": [
    "Q1 = Qmax #free flow through radial gate\n",
    "Cdw = 0.75 # weir discharge coefficient\n",
    "Lw = 6 # length of weir across channel\n",
    "pw = 2 # height of weir"
   ]
  },
  {
   "cell_type": "markdown",
   "id": "b15a92b9",
   "metadata": {},
   "source": [
    "### Error tolerance for total mechanical energy head H"
   ]
  },
  {
   "cell_type": "code",
   "execution_count": 23,
   "id": "fe398569",
   "metadata": {},
   "outputs": [],
   "source": [
    "Eh = [0.0016 if units == 'eng' else 0.0005] # from class 0.5 mm\n",
    "Eh = Eh[0]"
   ]
  },
  {
   "cell_type": "markdown",
   "id": "ea2853e5",
   "metadata": {},
   "source": [
    "## Create function for friction slope "
   ]
  },
  {
   "cell_type": "code",
   "execution_count": 24,
   "id": "3387963a",
   "metadata": {},
   "outputs": [],
   "source": [
    "def Sfric(k,u,n,r):\n",
    "    return np.multiply.reduce((u/((k/n)*(r**(2/3))))**2)"
   ]
  },
  {
   "cell_type": "markdown",
   "id": "a6fab00c",
   "metadata": {},
   "source": [
    "### Error tolerance for flow\n",
    "acurracy of Q, decrease eQ and Qstep for increased accuracy with increased computing time"
   ]
  },
  {
   "cell_type": "code",
   "execution_count": 25,
   "id": "32af1f91",
   "metadata": {},
   "outputs": [],
   "source": [
    "eQ = 0.1 # flow error\n",
    "Qstep = 0.0001 # bisection method step"
   ]
  },
  {
   "cell_type": "markdown",
   "id": "53152bf8",
   "metadata": {},
   "source": [
    "### Algorithm for gradually varied flow\n",
    "Loop must be altered if additional structures are added and/or additional bends,contractions,or expansions added"
   ]
  },
  {
   "cell_type": "code",
   "execution_count": 26,
   "id": "bbab6e81",
   "metadata": {
    "scrolled": true
   },
   "outputs": [
    {
     "name": "stderr",
     "output_type": "stream",
     "text": [
      "C:\\Users\\GSCOB\\miniconda3\\envs\\cive612\\lib\\site-packages\\numpy\\core\\shape_base.py:65: VisibleDeprecationWarning: Creating an ndarray from ragged nested sequences (which is a list-or-tuple of lists-or-tuples-or ndarrays with different lengths or shapes) is deprecated. If you meant to do this, you must specify 'dtype=object' when creating the ndarray.\n",
      "  ary = asanyarray(ary)\n"
     ]
    },
    {
     "name": "stdout",
     "output_type": "stream",
     "text": [
      "SOLUTION FOUND :) !!!\n",
      "Gate 1 must be set at a height of 0.27554280925886804 meters for a flowrate of 0.5 m/s\n",
      "Gate 2 offtake flowrate is 3.183228511862678 m/s\n",
      "Gate 3 must be set at a height of 0.27554280925886804 meters for a flowrate of 1.1 m/s\n",
      "Gate 4 must be set at a height of 0.27554280925886804 meters for a flowrate of 1.5 m/s\n",
      "Gate 5 offtake flowrate is 4.0952507564797 m/s\n",
      "CPU times: total: 21 s\n",
      "Wall time: 21 s\n"
     ]
    }
   ],
   "source": [
    "%%time\n",
    "h = np.ones(shape=(len(x),1), dtype=float)\n",
    "A = np.ones(shape=(len(x), 1), dtype=float)\n",
    "P = np.ones(shape=(len(x), 1), dtype=float)\n",
    "R = np.ones(shape=(len(x), 1), dtype=float)\n",
    "u = np.ones(shape=(len(x), 1), dtype=float)\n",
    "H = np.ones(shape=(len(x), 1), dtype=float)\n",
    "Hstar = np.ones(shape=(len(x), 1), dtype=float)\n",
    "Sbar = np.ones(shape=(len(x), 1), dtype=float)\n",
    "Hp = np.ones(shape=(len(x), 1), dtype=float)\n",
    "H1star = np.ones(shape=(len(x), 1), dtype=float)\n",
    "S1 = np.ones(shape=(len(x), 1), dtype=float)\n",
    "F1 = np.ones(shape=(len(x), 1), dtype=float)\n",
    "hstar = np.ones(shape=(len(x), 1), dtype=float)\n",
    "delh = np.ones(shape=(len(x), 1), dtype=float)\n",
    "H2 = np.ones(shape=(len(x), 1), dtype=float)\n",
    "Q = np.ones(shape=(len(x), 1), dtype=float)\n",
    "Hec = np.ones(shape=(len(x), 1), dtype=float)\n",
    "Hb = np.ones(shape=(len(x), 1), dtype=float)\n",
    "a = np.ones(shape=(len(x), 1), dtype=float)\n",
    "D= np.ones(shape=(len(x), 1), dtype=float)\n",
    "\n",
    "end = int((l-dx)/dx)\n",
    "\n",
    "Qrad = Qmax\n",
    "Q1 = Qrad\n",
    "Q[end] = -1\n",
    "\n",
    "while abs(Qrad-Q[end])>eQ:\n",
    "    for i in range(len(x)):\n",
    "        Q1 = Q1-Qstep\n",
    "        def freesharp(p):\n",
    "            y1=p\n",
    "            return (-Q1+(2/3)*Cdw*((2*g)**0.5)*Lw*y1**(3/2))\n",
    "        y1 = fsolve(freesharp, 1)\n",
    "\n",
    "        h1 = pw+y1\n",
    "        h1 = h1[0]\n",
    "        \n",
    "        if structure[0]=='rectangular':\n",
    "            A1 = h1 * br\n",
    "        elif structure[0]=='triangular':\n",
    "            A1 = mt * h1 ** 2\n",
    "        elif structure[0]=='trapezoidal':\n",
    "            A1 = h1*(bt+(mt*h1))\n",
    "        elif structure[0]=='trapezoidal':\n",
    "            A1 = a1*h1**a2\n",
    "        \n",
    "        # area\n",
    "        if geo[0]=='rectangular':\n",
    "            A1 = h1 * br\n",
    "        elif geo[0]=='triangular':\n",
    "            A1 = mt * h1 ** 2\n",
    "        elif geo[0]=='trapezoidal':\n",
    "            A1 = h1*(bt+(mtr*h1))\n",
    "        elif geo[0]=='irregular':\n",
    "            A1 = a1*h1**a2\n",
    "\n",
    "        # velocity\n",
    "        u1 = Qmax/A1\n",
    "\n",
    "        # total mechanical energy head\n",
    "        H1 = elev+h1+((alpha[i]*u1**2)/(2*g))\n",
    "\n",
    "        # wetted perimeter\n",
    "        if geo[0]=='rectangular':\n",
    "            P1 = br+(2*h1)\n",
    "        elif geo[0]=='trapezoidal':\n",
    "            P1 = (bt+(2*h1*(1+mtr**2)**(1/2)))\n",
    "        elif geo[0]=='triangular':\n",
    "            P1 = 2*h1*(1+mt**2)**0.5\n",
    "\n",
    "        # hydraulic radius\n",
    "        if geo[0]=='rectangular':\n",
    "            R1 = A1/P1\n",
    "        elif geo[0]=='trapezoidal':\n",
    "            R1 = A1/P1\n",
    "        elif geo[0]=='triangular':\n",
    "            R1 = A1/P1\n",
    "        elif geo[0]=='irregular':\n",
    "            R1 = r1*h1**r2\n",
    "        # calculate hydraulic depth\n",
    "        if geo[0]=='rectangular':\n",
    "            D[i] = h[i]\n",
    "        elif geo[0]=='trapezoidal':\n",
    "            D[i] = A[i]/(bt+(2*mtr*h[i]))\n",
    "        elif geo[0]=='triangular':\n",
    "            D[i] = A[i]/(2*mt*h[i])\n",
    "        else:\n",
    "            D[i] = A[i]/(a1*a2*(h[i]**(a2-1)))\n",
    "        if i == 0:\n",
    "            h[i] = h1\n",
    "            A[i] = A1\n",
    "            u[i] = u1\n",
    "            H[i] = H1\n",
    "            P[i] = P1\n",
    "            R[i] = R1\n",
    "            Q[i] = Q1\n",
    "            F1[i] = u[i]/(((g*D[i])/alpha[i])**.5)\n",
    "        else:\n",
    "            # step 1\n",
    "            h[i] = h[i-1]\n",
    "            absH=1\n",
    "            H2 = H[i-1]\n",
    "            S2 = Sfric(k,u[i-1],n[i-1],R[i-1])\n",
    "            loss = q[i]*dx\n",
    "            Q[i] = Q[i-1]-loss\n",
    "\n",
    "            # check for structures and solve for Q and/or h\n",
    "            if structure[i] != 'no structure':\n",
    "                if structure[i] == 'mid':\n",
    "                    def freemid(p):\n",
    "                        h[i],Cd=p\n",
    "                        return (-Q[i][0]+(Cd*am*bm*(2*g*h[i][0])**.5),0.611*((h[i][0]-am)/(h[i][0]+(15*am)))**0.072-Cd)\n",
    "                    def submid(p):\n",
    "                        h[i],Cd=p\n",
    "                        return (-Q[i][0]+((Cd*am*bm*(2*g*h[i][0])**.5)*fs),0.611*((h[i][0]-am)/(h[i][0]+(15*am)))**0.072-Cd)\n",
    "                    h[i],Cd =  fsolve(freemid, (1, 1))                   \n",
    "                    if h[i] < 0.81*h[i-1]*(h[i-1]/am)**0.72:\n",
    "                        fs1 = (h[i]-h[i-1])**0.7\n",
    "                        fs2 = 0.32*(0.81*h[i-1]*((h[i-1]/a)**0.72)-h[i])**0.7\n",
    "                        fs3 = (h[i]-h[i-1])**0.7\n",
    "                        fs = fs1*((fs2+fs3)**-1)\n",
    "                        h[i],Cd =  fsolve(submid,(1, 1))\n",
    "                elif structure[i] == 'off1':\n",
    "                    def freevert(p):\n",
    "                        a,Cd=p\n",
    "                        return (-Qoff1+(Cd*a*b*(2*g*h[i][0])**.5),0.611*((h[i][0]-a)/(h[i][0]+(15*a)))**0.072-Cd)\n",
    "                    a,Cd =  fsolve(freevert,[(1, 1)])\n",
    "                    Q[i] = Q[i-1]+Qoff1\n",
    "                    loss = (q[i]*dx)+Qoff1\n",
    "\n",
    "                elif structure[i] == 'off2':\n",
    "                    def free(p):\n",
    "                        Qoff2,Cd=p\n",
    "                        return (-Qoff2+(Cd*av2*b*(2*g*h[i][0])**.5),0.611*((h[i][0]-av2)/(h[i][0]+(15*av2)))**0.072-Cd)\n",
    "                    Qoff2,Cd =  fsolve(free, [1, 1])\n",
    "                    Q[i] = Q[i-1]+Qoff2\n",
    "                    loss = (q[i]*dx)+Qoff2\n",
    "                elif structure[i] == 'off3':\n",
    "                    def freeradial(p):\n",
    "                        a,Cd,theta,delta=p\n",
    "                        return (-Qoff3+(C1*Cd*a*b*(2*g*h[i][0])**.5),-Cd+(delta/(1+((delta*a)/h[i][0])**0.5)),\n",
    "                                -theta+math.acos((at-a)/r),\n",
    "                                -delta+1.001-(0.2349*theta)-(0.1843*theta**2)+(0.113*theta**3))\n",
    "                    a,Cd,theta,delta =  fsolve(freeradial, (1,1,1,1))\n",
    "                    Q[i] = Q[i-1]+Qoff3\n",
    "                    loss = (q[i]*dx)+Qoff3         \n",
    "                elif structure[i] == 'off4':\n",
    "                    def freeradial(p):\n",
    "                        a,Cd,theta,delta=p\n",
    "                        return (-Qoff4+(C1*Cd*a*b*(2*g*h[i][0])**.5),-Cd+(delta/(1+((delta*a)/h[i][0])**0.5)),\n",
    "                                -theta+math.acos((at-a)/r),\n",
    "                                -delta+1.001-(0.2349*theta)-(0.1843*theta**2)+(0.113*theta**3))\n",
    "                    a,Cd,theta,delta =  fsolve(freeradial, (1,1,1,1))\n",
    "                    Q[i] = Q[i-1]+Qoff4\n",
    "                    loss = (q[i]*dx)+Qoff4          \n",
    "                else:\n",
    "                    theta = math.acos((at-ar5)/r)\n",
    "                    delta = 1.001-(0.2349*theta)-(0.1843*theta**2)+(0.113*theta**3)\n",
    "                    def freeradial(p):\n",
    "                        Qoff5,Cd=p\n",
    "                        return (-Qoff5+(C1*Cd*ar5*b*(2*g*h[i][0])**.5),-Cd+(delta/(1+((delta*ar5)/h[i][0])**0.5)))\n",
    "                    Qoff5,Cd =  fsolve(freeradial, [(1, 1)])\n",
    "                    Q[i] = Q[i-1]+Qoff5\n",
    "                    loss = (q[i]*dx)+Qoff5\n",
    "\n",
    "            # use GVF algorithm to find upstream flow variables     \n",
    "            while absH > Eh:\n",
    "                # step 2, calculate geometry\n",
    "                if geo[0]=='rectangular':\n",
    "                    A[i] = h[i] * br\n",
    "                elif geo[0]=='triangular':\n",
    "                    A[i] = mt * h[i] ** 2\n",
    "                elif geo[0]=='trapezoidal':\n",
    "                    A[i] = h[i]*(bt+(mtr*h[i]))\n",
    "                else:\n",
    "                    A[i] = a1*h[i]**a2\n",
    "\n",
    "                # calculate velocity\n",
    "                u[i] = (-loss+(u[i-1]*A[i-1]))/A[i]  \n",
    "\n",
    "                # calculate wetted perimeter\n",
    "                if geo[0]=='rectangular':\n",
    "                    P[i] = br+(2*h[i])\n",
    "                elif geo[0]=='trapezoidal':\n",
    "                    P[i] = (b+(2*h[i]*(1+m**2)**(1/2)))\n",
    "                else:\n",
    "                    P[i] = 2*h[i]*(1+mt**2)**0.5\n",
    "\n",
    "                # calculate hydraulic radius\n",
    "                if geo[0]=='rectangular':\n",
    "                    R[i] = (A[i]/P[i])\n",
    "                elif geo[0]=='trapezoidal':\n",
    "                    R[i] = (A[i]/P[i])\n",
    "                elif geo[0]=='triangular':\n",
    "                    R[i] = (A[i]/P[i])\n",
    "                else:\n",
    "                    R[i] = r1*h[i]**r2\n",
    "\n",
    "                # step 3 total mechanical energy head\n",
    "                H[i] = bedelev[i]+h[i]+((alpha[i]*u[i]**2)/(2*g)) \n",
    "\n",
    "                # step 4 total mechanical energy head from average friction slope\n",
    "                # solve for spatially varying headloss caused by contractions and expansions\n",
    "                # define function for change in energy head caused by contraction/expansion\n",
    "                def sudden(c,ustar,u,g):\n",
    "                    return c*np.absolute(((ustar**2)/(2*g))-((u**2)/(2*g)))\n",
    "                if (x[i] !=xc1).all() and (i !=xc2).all() and (i !=xe1).all() and (i !=xe2).all():\n",
    "                    Hec[i]=0\n",
    "                elif (x[i]==xc1).any():\n",
    "                    Hec[i]=sudden(cc1,u[i],u[i-1],g)\n",
    "                elif (x[i]==xc2).any():\n",
    "                    Hec[i]=sudden(cc2,u[i],u[i-1],g)\n",
    "                elif (x[i]==xe1).any():\n",
    "                    Hec[i]=sudden(ce1,u[i],u[i-1],g)\n",
    "                else:\n",
    "                    Hec[i]=sudden(ce2,u[i],u[i-1],g)      \n",
    "                # solve for spatially varying headloss caused by bend\n",
    "                # define function for change in energy head caused by bend\n",
    "                def bend(c,u,g):\n",
    "                    return c*(u**2)/(2*g)  \n",
    "                if (x[i] !=xb1).all() and (i !=xb2).all():\n",
    "                    Hb[i]=0\n",
    "                elif (x[i]==xb1).any():\n",
    "                    Hb[i]=bend(cb1,u[i],g)\n",
    "                else:\n",
    "                    Hb[i]=bend(cb2,u[i],g)\n",
    "\n",
    "                S1[i] = Sfric(k,u[i],n[i],R[i])\n",
    "                Sbar[i] = S1[i]+S2\n",
    "                Hp[i] = H2+(0.5*Sbar[i]*dx)+Hec[i]+Hb[i] \n",
    "\n",
    "                # step 7 adjust h using Henderson (1966) method\n",
    "                \n",
    "                # calculate hydraulic depth\n",
    "                if geo[0]=='rectangular':\n",
    "                    D[i] = h[i]\n",
    "                elif geo[0]=='trapezoidal':\n",
    "                    D[i] = A[i]/(bt+(2*mtr*h[i]))\n",
    "                elif geo[0]=='triangular':\n",
    "                    D[i] = A[i]/(2*mt*h[i])\n",
    "                else:\n",
    "                    D[i] = A[i]/(a1*a2*(h[i]**(a2-1)))\n",
    "                \n",
    "                absH = abs(H[i]-Hp[i])\n",
    "                F1[i] = u[i]/(((g*D[i])/alpha[i])**.5)\n",
    "                delh[i] = (H[i]-Hp[i])/(1-(F1[i]**2)+((3*S1[i]*dx)/(2*R[i])))\n",
    "                h[i] = h[i]-delh[i]\n",
    "    \n",
    "    # check if submerged\n",
    "    theta = math.acos((at-aend)/r)\n",
    "    delta = 1.001-(0.2349*theta)-(0.1843*theta**2)+(0.113*theta**3)\n",
    "    def subrad(p):\n",
    "        Qrad,Cd,E=p\n",
    "        return(-Qrad+C1*Cd*aend*be*((2*g*(hend-h[end]))**0.5),-Cd+delta/((1-((delta*aend)/hend)**2)**0.5),\n",
    "               -E+(delta*aend)+((alpha[end])*((Qrad/(be*delta*aend))**2)/(2*g)))\n",
    "    Qrad,Cd,E = fsolve(subrad, (1,1,1))    \n",
    "    sub = (delta/2)*(((1+16*((E/(delta*aend))-1))**0.5)-1)\n",
    "    if h[end]/aend>sub:\n",
    "        Qrad = Qrad\n",
    "    else:\n",
    "        Qrad = Qmax\n",
    "    \n",
    "    if Q[end]-Qrad<0:\n",
    "        print('no solution :( decrease Qstep')\n",
    "        break\n",
    "print('SOLUTION FOUND :) !!!')\n",
    "\n",
    "print('Gate 1 must be set at a height of',a,'meters','for a flowrate of',Qoff1,'m/s')\n",
    "print('Gate 2 offtake flowrate is',Qoff2,'m/s')\n",
    "print('Gate 3 must be set at a height of',a,'meters','for a flowrate of',Qoff3,'m/s')\n",
    "print('Gate 4 must be set at a height of',a,'meters','for a flowrate of',Qoff4,'m/s')\n",
    "print('Gate 5 offtake flowrate is',Qoff5,'m/s')"
   ]
  },
  {
   "cell_type": "markdown",
   "id": "45038f73",
   "metadata": {},
   "source": [
    "### Calculate normal depth"
   ]
  },
  {
   "cell_type": "code",
   "execution_count": 33,
   "id": "1c4facee",
   "metadata": {},
   "outputs": [],
   "source": [
    "hn= np.ones(shape=(len(x), 1), dtype=float)\n",
    "\n",
    "for i in range(len(x)):\n",
    "    hn[i] = ((Q[i]*n[i])/(k*br*(R[i]**(2/3))*(So[i]**(0.5))))"
   ]
  },
  {
   "cell_type": "markdown",
   "id": "8729e6b2",
   "metadata": {},
   "source": [
    "### Calculate critical depth"
   ]
  },
  {
   "cell_type": "code",
   "execution_count": 34,
   "id": "4e168922",
   "metadata": {},
   "outputs": [],
   "source": [
    "hc= np.ones(shape=(len(x), 1), dtype=float)\n",
    "\n",
    "for i in range(len(x)):\n",
    "    if geo[0]=='rectangular':\n",
    "        hc[i] = ((u[i]**2)*alpha[i])/g\n",
    "    elif geo[0]=='trapezoidal':\n",
    "        hc[i] = (((A[i]*g)/((u[i]**2)*alpha[i]))-bt*(1/(2*mtr)))\n",
    "    elif geo[0]=='triangular':\n",
    "        hc[i] = (A[i]*g)/(2*mt*(u[i]**2)*alpha[i])\n",
    "    else:\n",
    "        hc[i] = ((A[i]*g)/((u[i]**2)*alpha[i]*a1*a2))**(1/(a2-1))"
   ]
  },
  {
   "cell_type": "markdown",
   "id": "9b7bf551",
   "metadata": {},
   "source": [
    "### View results"
   ]
  },
  {
   "cell_type": "code",
   "execution_count": 35,
   "id": "2069595c",
   "metadata": {
    "scrolled": false
   },
   "outputs": [
    {
     "data": {
      "text/plain": [
       "Text(0, 0.5, 'Depth (m)')"
      ]
     },
     "execution_count": 35,
     "metadata": {},
     "output_type": "execute_result"
    },
    {
     "data": {
      "image/png": "[encoded data removed]",
      "text/plain": [
       "<Figure size 1080x360 with 1 Axes>"
      ]
     },
     "metadata": {
      "needs_background": "light"
     },
     "output_type": "display_data"
    }
   ],
   "source": [
    "fig = plt.figure(1, figsize=(15,5))\n",
    "plt.plot(x,h)\n",
    "plt.xlabel('Distance Upstream, (m)')\n",
    "plt.ylabel('Depth (m)')"
   ]
  },
  {
   "cell_type": "code",
   "execution_count": 36,
   "id": "9fd4e60a",
   "metadata": {},
   "outputs": [
    {
     "data": {
      "text/plain": [
       "<matplotlib.legend.Legend at 0x28756f85ca0>"
      ]
     },
     "execution_count": 36,
     "metadata": {},
     "output_type": "execute_result"
    },
    {
     "data": {
      "image/png": "[encoded data removed]",
      "text/plain": [
       "<Figure size 1080x360 with 1 Axes>"
      ]
     },
     "metadata": {
      "needs_background": "light"
     },
     "output_type": "display_data"
    }
   ],
   "source": [
    "fig = plt.figure(1, figsize=(15,5))\n",
    "plt.xlabel('Distance Upstream (m)')\n",
    "plt.ylabel('Water Surface Elevation (m)')\n",
    "WSE = [bedelev[i]+h[i] for i in range(len(x))]\n",
    "cWSE = [bedelev[i]+hc[i] for i in range(len(x))]\n",
    "nWSE = [bedelev[i]+hn[i] for i in range(len(x))]\n",
    "plt.plot(x,bedelev,'k')\n",
    "plt.plot(x,WSE)\n",
    "plt.plot(x,nWSE)\n",
    "plt.plot(x,cWSE)\n",
    "#plt.legend(['model','normal','critical'])\n",
    "plt.legend(['ground,','model','normal','critical'])"
   ]
  },
  {
   "cell_type": "code",
   "execution_count": 113,
   "id": "554713c4",
   "metadata": {
    "scrolled": true
   },
   "outputs": [
    {
     "data": {
      "text/plain": [
       "Text(0, 0.5, 'Discharge (m^3/s)')"
      ]
     },
     "execution_count": 113,
     "metadata": {},
     "output_type": "execute_result"
    },
    {
     "data": {
      "image/png": "[encoded data removed]",
      "text/plain": [
       "<Figure size 1080x360 with 1 Axes>"
      ]
     },
     "metadata": {
      "needs_background": "light"
     },
     "output_type": "display_data"
    }
   ],
   "source": [
    "fig = plt.figure(1, figsize=(15,5))\n",
    "plt.plot(x,Q)\n",
    "\n",
    "plt.xlabel('Distance Upstream (m)')\n",
    "plt.ylabel('Discharge (m^3/s)')"
   ]
  },
  {
   "cell_type": "code",
   "execution_count": 115,
   "id": "9eca89f4",
   "metadata": {},
   "outputs": [
    {
     "data": {
      "text/plain": [
       "[<matplotlib.lines.Line2D at 0x1cae7f1b430>]"
      ]
     },
     "execution_count": 115,
     "metadata": {},
     "output_type": "execute_result"
    },
    {
     "data": {
      "image/png": "[encoded data removed]",
      "text/plain": [
       "<Figure size 1080x360 with 1 Axes>"
      ]
     },
     "metadata": {
      "needs_background": "light"
     },
     "output_type": "display_data"
    }
   ],
   "source": [
    "fig = plt.figure(1, figsize=(15,5))\n",
    "plt.xlabel('Distance Upstream (m)')\n",
    "plt.ylabel('Froude')\n",
    "plt.plot(x,F1)"
   ]
  },
  {
   "cell_type": "code",
   "execution_count": 116,
   "id": "91a6a4bc",
   "metadata": {
    "scrolled": true
   },
   "outputs": [
    {
     "data": {
      "text/plain": [
       "[<matplotlib.lines.Line2D at 0x1cae80f6f40>]"
      ]
     },
     "execution_count": 116,
     "metadata": {},
     "output_type": "execute_result"
    },
    {
     "data": {
      "image/png": "[encoded data removed]",
      "text/plain": [
       "<Figure size 1080x360 with 1 Axes>"
      ]
     },
     "metadata": {
      "needs_background": "light"
     },
     "output_type": "display_data"
    }
   ],
   "source": [
    "fig = plt.figure(1, figsize=(15,5))\n",
    "plt.xlabel('Distance Upstream (m)')\n",
    "plt.ylabel('Velocity (m/s)')\n",
    "plt.plot(x,u)"
   ]
  },
  {
   "cell_type": "code",
   "execution_count": 123,
   "id": "970aaf60",
   "metadata": {},
   "outputs": [
    {
     "data": {
      "text/plain": [
       "[<matplotlib.lines.Line2D at 0x1caea4b4b80>]"
      ]
     },
     "execution_count": 123,
     "metadata": {},
     "output_type": "execute_result"
    },
    {
     "data": {
      "image/png": "[encoded data removed]",
      "text/plain": [
       "<Figure size 1080x360 with 1 Axes>"
      ]
     },
     "metadata": {
      "needs_background": "light"
     },
     "output_type": "display_data"
    }
   ],
   "source": [
    "fig = plt.figure(1, figsize=(15,5))\n",
    "plt.xlabel('Distance Upstream (m)')\n",
    "plt.ylabel('Total Mechanical Energy Head (m)')\n",
    "plt.plot(x,H)"
   ]
  },
  {
   "cell_type": "code",
   "execution_count": null,
   "id": "e5fd48d0",
   "metadata": {},
   "outputs": [],
   "source": [
    "# create plot that shows flow rate as a function of position, if result merges on accurate solution\n",
    "# calculate cross sectional averaged velocity\n",
    "# calculate flow depth\n",
    "# plot flow depth with hc and hn\n",
    "# WSE\n",
    "# Fr\n",
    "# calculate total mechanical energy head\n",
    "# calculate off-take flow rates"
   ]
  },
  {
   "cell_type": "markdown",
   "id": "e385ffb6",
   "metadata": {},
   "source": [
    "### Export inputs and outputs"
   ]
  },
  {
   "cell_type": "code",
   "execution_count": 191,
   "id": "60cb84e2",
   "metadata": {},
   "outputs": [],
   "source": [
    "d = {'x m':x,'dx m':dx,'bedelev m':bedelev,'n':n,'q m^/s':q,'alpha':alpha,'geo':geo,'structure':structure, 'So':So}\n",
    "inputs = pd.DataFrame(data=d)\n",
    "\n",
    "inputs.to_csv('inputs.csv')"
   ]
  },
  {
   "cell_type": "code",
   "execution_count": 37,
   "id": "74089484",
   "metadata": {},
   "outputs": [],
   "source": [
    "h = [h[i] for i in range(len(x))]\n",
    "H = [H[i] for i in range(len(x))]\n",
    "A = [A[i] for i in range(len(x))]\n",
    "R = [R[i] for i in range(len(x))]\n",
    "P = [P[i] for i in range(len(x))]\n",
    "u = [u[i] for i in range(len(x))]\n",
    "S1 = [S1[i] for i in range(len(x))]\n",
    "Q = [Q[i] for i in range(len(x))]\n",
    "F1 = [F1[i] for i in range(len(x))]\n",
    "WSE = [WSE[i] for i in range(len(x))]\n",
    "\n",
    "d = {'h(m)':h,'H(m)':H,'A(m^2)':A,'R(m)':R,'P(m)':P,'u(m/s)':u,'Sf':S1,'Q':Q,'Fr':F1,'WSE':WSE}\n",
    "outputs = pd.DataFrame(data=d)\n",
    "outputs.to_csv('outputs.csv')"
   ]
  }
 ],
 "metadata": {
  "kernelspec": {
   "display_name": "Python 3 (ipykernel)",
   "language": "python",
   "name": "python3"
  },
  "language_info": {
   "codemirror_mode": {
    "name": "ipython",
    "version": 3
   },
   "file_extension": ".py",
   "mimetype": "text/x-python",
   "name": "python",
   "nbconvert_exporter": "python",
   "pygments_lexer": "ipython3",
   "version": "3.8.13"
  }
 },
 "nbformat": 4,
 "nbformat_minor": 5
}
